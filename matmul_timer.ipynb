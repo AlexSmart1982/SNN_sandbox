{
 "cells": [
  {
   "cell_type": "code",
   "execution_count": 11,
   "id": "cf701fa5",
   "metadata": {},
   "outputs": [
    {
     "name": "stdout",
     "output_type": "stream",
     "text": [
      "Время умножения двух матриц с дробными значениями: 41.5551073551178 сек\n",
      "Время умножения двух матриц с значениями 0 или 1: 4891.83182311058 сек\n"
     ]
    }
   ],
   "source": [
    "import numpy as np\n",
    "import time\n",
    "\n",
    "# Генерация двух матриц с дробными значениями\n",
    "matrix1 = np.random.rand(10000, 10000)\n",
    "matrix2 = np.random.rand(10000, 10000)\n",
    "\n",
    "# Измерение времени умножения двух матриц с дробными значениями\n",
    "start_time = time.time()\n",
    "result1 = np.dot(matrix1, matrix2)\n",
    "end_time = time.time()\n",
    "execution_time1 = end_time - start_time\n",
    "print(\"Время умножения двух матриц с дробными значениями:\", execution_time1, \"сек\")\n",
    "\n",
    "# Генерация двух матриц с значениями 0 или 1\n",
    "matrix3 = np.random.randint(2, size=(10000, 10000), dtype = np.int16)\n",
    "matrix4 = np.random.randint(2, size=(10000, 10000), dtype = np.int16)\n",
    "\n",
    "# Измерение времени умножения двух матриц с значениями 0 или 1\n",
    "start_time = time.time()\n",
    "result2 = np.dot(matrix3, matrix4)\n",
    "end_time = time.time()\n",
    "execution_time2 = end_time - start_time\n",
    "print(\"Время умножения двух матриц с значениями 0 или 1:\", execution_time2, \"сек\")\n"
   ]
  },
  {
   "cell_type": "code",
   "execution_count": 12,
   "id": "2ce3c15e",
   "metadata": {},
   "outputs": [
    {
     "name": "stdout",
     "output_type": "stream",
     "text": [
      "Время умножения двух матриц с значениями 0 или 1: 1.522479772567749 сек\n"
     ]
    }
   ],
   "source": [
    "# Генерация двух матриц с значениями 0 или 1\n",
    "matrix5 = matrix3.astype(bool)\n",
    "matrix6 = matrix4.astype(bool)\n",
    "\n",
    "# Измерение времени умножения двух матриц с значениями 0 или 1\n",
    "start_time = time.time()\n",
    "result2 = np.dot(matrix5, matrix6)\n",
    "end_time = time.time()\n",
    "execution_time2 = end_time - start_time\n",
    "print(\"Время умножения двух матриц с значениями 0 или 1:\", execution_time2, \"сек\")\n"
   ]
  },
  {
   "cell_type": "code",
   "execution_count": 9,
   "id": "de4980f4",
   "metadata": {},
   "outputs": [
    {
     "data": {
      "text/plain": [
       "2000000"
      ]
     },
     "execution_count": 9,
     "metadata": {},
     "output_type": "execute_result"
    }
   ],
   "source": [
    "matrix3.nbytes"
   ]
  },
  {
   "cell_type": "code",
   "execution_count": 3,
   "id": "699e77c7",
   "metadata": {},
   "outputs": [
    {
     "name": "stdout",
     "output_type": "stream",
     "text": [
      "Размер памяти до изменения: 20 байт\n",
      "Размер памяти после изменения: 10 байт\n"
     ]
    }
   ],
   "source": [
    "import numpy as np\n",
    "\n",
    "# Создание массива целых чисел\n",
    "arr = np.array([1, 2, 3, 4, 5], dtype=np.int32)\n",
    "\n",
    "# Проверка размера памяти, занимаемого массивом\n",
    "print(\"Размер памяти до изменения:\", arr.nbytes, \"байт\")\n",
    "\n",
    "# Преобразование массива в int16\n",
    "arr = arr.astype(np.int16)\n",
    "\n",
    "# Проверка размера памяти после изменения\n",
    "print(\"Размер памяти после изменения:\", arr.nbytes, \"байт\")\n"
   ]
  },
  {
   "cell_type": "code",
   "execution_count": 1,
   "id": "9ed3f489",
   "metadata": {},
   "outputs": [],
   "source": [
    "import numpy as np\n",
    "import time"
   ]
  },
  {
   "cell_type": "code",
   "execution_count": 66,
   "id": "15009ca8",
   "metadata": {},
   "outputs": [],
   "source": [
    "a = np.random.randint(10, size=(10, 2), dtype = np.int16)\n",
    "a = a.astype(bool)"
   ]
  },
  {
   "cell_type": "code",
   "execution_count": 67,
   "id": "4af635fc",
   "metadata": {},
   "outputs": [
    {
     "data": {
      "text/plain": [
       "array([[ True,  True],\n",
       "       [ True,  True],\n",
       "       [ True,  True],\n",
       "       [False, False],\n",
       "       [ True,  True],\n",
       "       [ True, False],\n",
       "       [False,  True],\n",
       "       [ True,  True],\n",
       "       [ True,  True],\n",
       "       [ True,  True]])"
      ]
     },
     "execution_count": 67,
     "metadata": {},
     "output_type": "execute_result"
    }
   ],
   "source": [
    "a"
   ]
  },
  {
   "cell_type": "code",
   "execution_count": 68,
   "id": "5996fbda",
   "metadata": {},
   "outputs": [
    {
     "data": {
      "text/plain": [
       "numpy.ndarray"
      ]
     },
     "execution_count": 68,
     "metadata": {},
     "output_type": "execute_result"
    }
   ],
   "source": [
    "type(a)"
   ]
  },
  {
   "cell_type": "code",
   "execution_count": 69,
   "id": "687aa00d",
   "metadata": {},
   "outputs": [],
   "source": [
    "c = np.array([[False,False,True,False], [False,True,False,False]])"
   ]
  },
  {
   "cell_type": "code",
   "execution_count": 70,
   "id": "2a225706",
   "metadata": {},
   "outputs": [
    {
     "data": {
      "text/plain": [
       "(array([[ True,  True],\n",
       "        [ True,  True],\n",
       "        [ True,  True],\n",
       "        [False, False],\n",
       "        [ True,  True],\n",
       "        [ True, False],\n",
       "        [False,  True],\n",
       "        [ True,  True],\n",
       "        [ True,  True],\n",
       "        [ True,  True]]),\n",
       " array([[False, False,  True, False],\n",
       "        [False,  True, False, False]]))"
      ]
     },
     "execution_count": 70,
     "metadata": {},
     "output_type": "execute_result"
    }
   ],
   "source": [
    "a, c"
   ]
  },
  {
   "cell_type": "code",
   "execution_count": 71,
   "id": "47cd0b86",
   "metadata": {},
   "outputs": [
    {
     "data": {
      "text/plain": [
       "(10, 2, 1)"
      ]
     },
     "execution_count": 71,
     "metadata": {},
     "output_type": "execute_result"
    }
   ],
   "source": [
    "a = a[:,:,np.newaxis]\n",
    "a.shape"
   ]
  },
  {
   "cell_type": "code",
   "execution_count": 72,
   "id": "dc154d02",
   "metadata": {},
   "outputs": [
    {
     "data": {
      "text/plain": [
       "((10, 2, 1), (2, 4))"
      ]
     },
     "execution_count": 72,
     "metadata": {},
     "output_type": "execute_result"
    }
   ],
   "source": [
    "a.shape, c.shape"
   ]
  },
  {
   "cell_type": "code",
   "execution_count": 73,
   "id": "6ec11b6f",
   "metadata": {},
   "outputs": [
    {
     "data": {
      "text/plain": [
       "(array([[[ True],\n",
       "         [ True]],\n",
       " \n",
       "        [[ True],\n",
       "         [ True]],\n",
       " \n",
       "        [[ True],\n",
       "         [ True]],\n",
       " \n",
       "        [[False],\n",
       "         [False]],\n",
       " \n",
       "        [[ True],\n",
       "         [ True]],\n",
       " \n",
       "        [[ True],\n",
       "         [False]],\n",
       " \n",
       "        [[False],\n",
       "         [ True]],\n",
       " \n",
       "        [[ True],\n",
       "         [ True]],\n",
       " \n",
       "        [[ True],\n",
       "         [ True]],\n",
       " \n",
       "        [[ True],\n",
       "         [ True]]]),\n",
       " array([[False, False,  True, False],\n",
       "        [False,  True, False, False]]))"
      ]
     },
     "execution_count": 73,
     "metadata": {},
     "output_type": "execute_result"
    }
   ],
   "source": [
    "a, c"
   ]
  },
  {
   "cell_type": "code",
   "execution_count": 74,
   "id": "09237415",
   "metadata": {},
   "outputs": [
    {
     "data": {
      "text/plain": [
       "array([[[False, False,  True, False],\n",
       "        [False,  True, False, False]],\n",
       "\n",
       "       [[False, False,  True, False],\n",
       "        [False,  True, False, False]],\n",
       "\n",
       "       [[False, False,  True, False],\n",
       "        [False,  True, False, False]],\n",
       "\n",
       "       [[False, False, False, False],\n",
       "        [False, False, False, False]],\n",
       "\n",
       "       [[False, False,  True, False],\n",
       "        [False,  True, False, False]],\n",
       "\n",
       "       [[False, False,  True, False],\n",
       "        [False, False, False, False]],\n",
       "\n",
       "       [[False, False, False, False],\n",
       "        [False,  True, False, False]],\n",
       "\n",
       "       [[False, False,  True, False],\n",
       "        [False,  True, False, False]],\n",
       "\n",
       "       [[False, False,  True, False],\n",
       "        [False,  True, False, False]],\n",
       "\n",
       "       [[False, False,  True, False],\n",
       "        [False,  True, False, False]]])"
      ]
     },
     "execution_count": 74,
     "metadata": {},
     "output_type": "execute_result"
    }
   ],
   "source": [
    "m = np.einsum('ij, kim-> kij', c, a) # (2,4) (10,2,1)\n",
    "m"
   ]
  },
  {
   "cell_type": "code",
   "execution_count": 75,
   "id": "25c627c2",
   "metadata": {},
   "outputs": [
    {
     "data": {
      "text/plain": [
       "(10, 2, 4)"
      ]
     },
     "execution_count": 75,
     "metadata": {},
     "output_type": "execute_result"
    }
   ],
   "source": [
    "m.shape"
   ]
  },
  {
   "cell_type": "code",
   "execution_count": 45,
   "id": "b057b4a3",
   "metadata": {},
   "outputs": [
    {
     "data": {
      "text/plain": [
       "0"
      ]
     },
     "execution_count": 45,
     "metadata": {},
     "output_type": "execute_result"
    }
   ],
   "source": []
  },
  {
   "cell_type": "code",
   "execution_count": 76,
   "id": "7b10a618",
   "metadata": {},
   "outputs": [
    {
     "name": "stdout",
     "output_type": "stream",
     "text": [
      "[[1 3 1 2 1 2]\n",
      " [3 4 3 3 4 3]]\n"
     ]
    }
   ],
   "source": [
    "import numpy as np\n",
    "\n",
    "# Исходная матрица размерности (n, i, j)\n",
    "matrix = np.array([[[0, 1, 0, 0, 1, 1],\n",
    "                   [0, 1, 1, 1, 0, 0],\n",
    "                   [1, 1, 0, 1, 0, 1]],\n",
    "\n",
    "                  [[1, 1, 1, 0, 1, 1],\n",
    "                   [0, 0, 1, 0, 1, 0],\n",
    "                   [1, 0, 0, 1, 1, 0]]])\n",
    "\n",
    "# Получение матрицы сумм по размерности j\n",
    "sum_matrix = np.sum(matrix, axis=1)\n",
    "\n",
    "# Преобразование матрицы сумм в кумулятивные суммы по каждому из n векторов\n",
    "cumulative_sum_matrix = np.cumsum(sum_matrix, axis=0)\n",
    "\n",
    "# Вывод результирующей матрицы\n",
    "print(cumulative_sum_matrix)\n"
   ]
  },
  {
   "cell_type": "code",
   "execution_count": 77,
   "id": "b2546086",
   "metadata": {},
   "outputs": [],
   "source": [
    "a = np.array([0,1,1,0,0,1])"
   ]
  },
  {
   "cell_type": "code",
   "execution_count": 78,
   "id": "e4a86179",
   "metadata": {},
   "outputs": [
    {
     "data": {
      "text/plain": [
       "array([0, 1, 2, 2, 2, 3])"
      ]
     },
     "execution_count": 78,
     "metadata": {},
     "output_type": "execute_result"
    }
   ],
   "source": [
    "np.cumsum(a)"
   ]
  },
  {
   "cell_type": "code",
   "execution_count": 79,
   "id": "6130fd19",
   "metadata": {},
   "outputs": [],
   "source": [
    "matrix = np.array([[[0, 1, 0, 0, 1, 1],\n",
    "                   [0, 1, 1, 1, 0, 0],\n",
    "                   [1, 1, 0, 1, 0, 1]],\n",
    "\n",
    "                  [[1, 1, 1, 0, 1, 1],\n",
    "                   [0, 0, 1, 0, 1, 0],\n",
    "                   [1, 0, 0, 1, 1, 0]]])\n",
    "\n"
   ]
  },
  {
   "cell_type": "code",
   "execution_count": 86,
   "id": "7b37a7fd",
   "metadata": {},
   "outputs": [
    {
     "data": {
      "text/plain": [
       "array([[1, 3, 1, 2, 1, 2],\n",
       "       [2, 1, 2, 1, 3, 1]])"
      ]
     },
     "execution_count": 86,
     "metadata": {},
     "output_type": "execute_result"
    }
   ],
   "source": [
    "c = np.sum(matrix, axis = 1)\n",
    "c"
   ]
  },
  {
   "cell_type": "code",
   "execution_count": 87,
   "id": "23eb40ff",
   "metadata": {},
   "outputs": [
    {
     "data": {
      "text/plain": [
       "array([[ 1,  4,  5,  7,  8, 10],\n",
       "       [ 2,  3,  5,  6,  9, 10]])"
      ]
     },
     "execution_count": 87,
     "metadata": {},
     "output_type": "execute_result"
    }
   ],
   "source": [
    "d = np.cumsum(c, axis = 1)\n",
    "d"
   ]
  },
  {
   "cell_type": "code",
   "execution_count": 82,
   "id": "f32e11e1",
   "metadata": {},
   "outputs": [
    {
     "data": {
      "text/plain": [
       "array([0, 0, 1, 1, 1, 2, 2, 2])"
      ]
     },
     "execution_count": 82,
     "metadata": {},
     "output_type": "execute_result"
    }
   ],
   "source": [
    "d"
   ]
  },
  {
   "cell_type": "code",
   "execution_count": null,
   "id": "1caf3062",
   "metadata": {},
   "outputs": [],
   "source": []
  }
 ],
 "metadata": {
  "kernelspec": {
   "display_name": "Python 3 (ipykernel)",
   "language": "python",
   "name": "python3"
  },
  "language_info": {
   "codemirror_mode": {
    "name": "ipython",
    "version": 3
   },
   "file_extension": ".py",
   "mimetype": "text/x-python",
   "name": "python",
   "nbconvert_exporter": "python",
   "pygments_lexer": "ipython3",
   "version": "3.8.12"
  }
 },
 "nbformat": 4,
 "nbformat_minor": 5
}
