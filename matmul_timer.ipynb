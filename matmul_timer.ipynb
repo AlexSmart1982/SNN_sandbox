{
 "cells": [
  {
   "cell_type": "code",
   "execution_count": 11,
   "id": "cf701fa5",
   "metadata": {},
   "outputs": [
    {
     "name": "stdout",
     "output_type": "stream",
     "text": [
      "Время умножения двух матриц с дробными значениями: 41.5551073551178 сек\n",
      "Время умножения двух матриц с значениями 0 или 1: 4891.83182311058 сек\n"
     ]
    }
   ],
   "source": [
    "import numpy as np\n",
    "import time\n",
    "\n",
    "# Генерация двух матриц с дробными значениями\n",
    "matrix1 = np.random.rand(10000, 10000)\n",
    "matrix2 = np.random.rand(10000, 10000)\n",
    "\n",
    "# Измерение времени умножения двух матриц с дробными значениями\n",
    "start_time = time.time()\n",
    "result1 = np.dot(matrix1, matrix2)\n",
    "end_time = time.time()\n",
    "execution_time1 = end_time - start_time\n",
    "print(\"Время умножения двух матриц с дробными значениями:\", execution_time1, \"сек\")\n",
    "\n",
    "# Генерация двух матриц с значениями 0 или 1\n",
    "matrix3 = np.random.randint(2, size=(10000, 10000), dtype = np.int16)\n",
    "matrix4 = np.random.randint(2, size=(10000, 10000), dtype = np.int16)\n",
    "\n",
    "# Измерение времени умножения двух матриц с значениями 0 или 1\n",
    "start_time = time.time()\n",
    "result2 = np.dot(matrix3, matrix4)\n",
    "end_time = time.time()\n",
    "execution_time2 = end_time - start_time\n",
    "print(\"Время умножения двух матриц с значениями 0 или 1:\", execution_time2, \"сек\")\n"
   ]
  },
  {
   "cell_type": "code",
   "execution_count": 12,
   "id": "2ce3c15e",
   "metadata": {},
   "outputs": [
    {
     "name": "stdout",
     "output_type": "stream",
     "text": [
      "Время умножения двух матриц с значениями 0 или 1: 1.522479772567749 сек\n"
     ]
    }
   ],
   "source": [
    "# Генерация двух матриц с значениями 0 или 1\n",
    "matrix5 = matrix3.astype(bool)\n",
    "matrix6 = matrix4.astype(bool)\n",
    "\n",
    "# Измерение времени умножения двух матриц с значениями 0 или 1\n",
    "start_time = time.time()\n",
    "result2 = np.dot(matrix5, matrix6)\n",
    "end_time = time.time()\n",
    "execution_time2 = end_time - start_time\n",
    "print(\"Время умножения двух матриц с значениями 0 или 1:\", execution_time2, \"сек\")\n"
   ]
  },
  {
   "cell_type": "code",
   "execution_count": 9,
   "id": "de4980f4",
   "metadata": {},
   "outputs": [
    {
     "data": {
      "text/plain": [
       "2000000"
      ]
     },
     "execution_count": 9,
     "metadata": {},
     "output_type": "execute_result"
    }
   ],
   "source": [
    "matrix3.nbytes"
   ]
  },
  {
   "cell_type": "code",
   "execution_count": 3,
   "id": "699e77c7",
   "metadata": {},
   "outputs": [
    {
     "name": "stdout",
     "output_type": "stream",
     "text": [
      "Размер памяти до изменения: 20 байт\n",
      "Размер памяти после изменения: 10 байт\n"
     ]
    }
   ],
   "source": [
    "import numpy as np\n",
    "\n",
    "# Создание массива целых чисел\n",
    "arr = np.array([1, 2, 3, 4, 5], dtype=np.int32)\n",
    "\n",
    "# Проверка размера памяти, занимаемого массивом\n",
    "print(\"Размер памяти до изменения:\", arr.nbytes, \"байт\")\n",
    "\n",
    "# Преобразование массива в int16\n",
    "arr = arr.astype(np.int16)\n",
    "\n",
    "# Проверка размера памяти после изменения\n",
    "print(\"Размер памяти после изменения:\", arr.nbytes, \"байт\")\n"
   ]
  },
  {
   "cell_type": "code",
   "execution_count": 1,
   "id": "9ed3f489",
   "metadata": {},
   "outputs": [],
   "source": [
    "import numpy as np\n",
    "import time"
   ]
  },
  {
   "cell_type": "code",
   "execution_count": 66,
   "id": "0add0e1c",
   "metadata": {},
   "outputs": [],
   "source": [
    "a = np.random.randint(10, size=(10, 2), dtype = np.int16)\n",
    "a = a.astype(bool)"
   ]
  },
  {
   "cell_type": "code",
   "execution_count": 67,
   "id": "768a12f3",
   "metadata": {},
   "outputs": [
    {
     "data": {
      "text/plain": [
       "array([[ True,  True],\n",
       "       [ True,  True],\n",
       "       [ True,  True],\n",
       "       [False, False],\n",
       "       [ True,  True],\n",
       "       [ True, False],\n",
       "       [False,  True],\n",
       "       [ True,  True],\n",
       "       [ True,  True],\n",
       "       [ True,  True]])"
      ]
     },
     "execution_count": 67,
     "metadata": {},
     "output_type": "execute_result"
    }
   ],
   "source": [
    "a"
   ]
  },
  {
   "cell_type": "code",
   "execution_count": 68,
   "id": "0306219d",
   "metadata": {},
   "outputs": [
    {
     "data": {
      "text/plain": [
       "numpy.ndarray"
      ]
     },
     "execution_count": 68,
     "metadata": {},
     "output_type": "execute_result"
    }
   ],
   "source": [
    "type(a)"
   ]
  },
  {
   "cell_type": "code",
   "execution_count": 69,
   "id": "e71969fa",
   "metadata": {},
   "outputs": [],
   "source": [
    "c = np.array([[False,False,True,False], [False,True,False,False]])"
   ]
  },
  {
   "cell_type": "code",
   "execution_count": 70,
   "id": "3ba3c624",
   "metadata": {},
   "outputs": [
    {
     "data": {
      "text/plain": [
       "(array([[ True,  True],\n",
       "        [ True,  True],\n",
       "        [ True,  True],\n",
       "        [False, False],\n",
       "        [ True,  True],\n",
       "        [ True, False],\n",
       "        [False,  True],\n",
       "        [ True,  True],\n",
       "        [ True,  True],\n",
       "        [ True,  True]]),\n",
       " array([[False, False,  True, False],\n",
       "        [False,  True, False, False]]))"
      ]
     },
     "execution_count": 70,
     "metadata": {},
     "output_type": "execute_result"
    }
   ],
   "source": [
    "a, c"
   ]
  },
  {
   "cell_type": "code",
   "execution_count": 71,
   "id": "4919990f",
   "metadata": {},
   "outputs": [
    {
     "data": {
      "text/plain": [
       "(10, 2, 1)"
      ]
     },
     "execution_count": 71,
     "metadata": {},
     "output_type": "execute_result"
    }
   ],
   "source": [
    "a = a[:,:,np.newaxis]\n",
    "a.shape"
   ]
  },
  {
   "cell_type": "code",
   "execution_count": 72,
   "id": "eb5a5a00",
   "metadata": {},
   "outputs": [
    {
     "data": {
      "text/plain": [
       "((10, 2, 1), (2, 4))"
      ]
     },
     "execution_count": 72,
     "metadata": {},
     "output_type": "execute_result"
    }
   ],
   "source": [
    "a.shape, c.shape"
   ]
  },
  {
   "cell_type": "code",
   "execution_count": 73,
   "id": "67b34501",
   "metadata": {},
   "outputs": [
    {
     "data": {
      "text/plain": [
       "(array([[[ True],\n",
       "         [ True]],\n",
       " \n",
       "        [[ True],\n",
       "         [ True]],\n",
       " \n",
       "        [[ True],\n",
       "         [ True]],\n",
       " \n",
       "        [[False],\n",
       "         [False]],\n",
       " \n",
       "        [[ True],\n",
       "         [ True]],\n",
       " \n",
       "        [[ True],\n",
       "         [False]],\n",
       " \n",
       "        [[False],\n",
       "         [ True]],\n",
       " \n",
       "        [[ True],\n",
       "         [ True]],\n",
       " \n",
       "        [[ True],\n",
       "         [ True]],\n",
       " \n",
       "        [[ True],\n",
       "         [ True]]]),\n",
       " array([[False, False,  True, False],\n",
       "        [False,  True, False, False]]))"
      ]
     },
     "execution_count": 73,
     "metadata": {},
     "output_type": "execute_result"
    }
   ],
   "source": [
    "a, c"
   ]
  },
  {
   "cell_type": "code",
   "execution_count": 74,
   "id": "98d83f45",
   "metadata": {},
   "outputs": [
    {
     "data": {
      "text/plain": [
       "array([[[False, False,  True, False],\n",
       "        [False,  True, False, False]],\n",
       "\n",
       "       [[False, False,  True, False],\n",
       "        [False,  True, False, False]],\n",
       "\n",
       "       [[False, False,  True, False],\n",
       "        [False,  True, False, False]],\n",
       "\n",
       "       [[False, False, False, False],\n",
       "        [False, False, False, False]],\n",
       "\n",
       "       [[False, False,  True, False],\n",
       "        [False,  True, False, False]],\n",
       "\n",
       "       [[False, False,  True, False],\n",
       "        [False, False, False, False]],\n",
       "\n",
       "       [[False, False, False, False],\n",
       "        [False,  True, False, False]],\n",
       "\n",
       "       [[False, False,  True, False],\n",
       "        [False,  True, False, False]],\n",
       "\n",
       "       [[False, False,  True, False],\n",
       "        [False,  True, False, False]],\n",
       "\n",
       "       [[False, False,  True, False],\n",
       "        [False,  True, False, False]]])"
      ]
     },
     "execution_count": 74,
     "metadata": {},
     "output_type": "execute_result"
    }
   ],
   "source": [
    "m = np.einsum('ij, kim-> kij', c, a) # (2,4) (10,2,1)\n",
    "m"
   ]
  },
  {
   "cell_type": "code",
   "execution_count": 75,
   "id": "381094cc",
   "metadata": {},
   "outputs": [
    {
     "data": {
      "text/plain": [
       "(10, 2, 4)"
      ]
     },
     "execution_count": 75,
     "metadata": {},
     "output_type": "execute_result"
    }
   ],
   "source": [
    "m.shape"
   ]
  },
  {
   "cell_type": "code",
   "execution_count": 45,
   "id": "584be094",
   "metadata": {},
   "outputs": [
    {
     "data": {
      "text/plain": [
       "0"
      ]
     },
     "execution_count": 45,
     "metadata": {},
     "output_type": "execute_result"
    }
   ],
   "source": []
  },
  {
   "cell_type": "code",
   "execution_count": 76,
   "id": "b8221590",
   "metadata": {},
   "outputs": [
    {
     "name": "stdout",
     "output_type": "stream",
     "text": [
      "[[1 3 1 2 1 2]\n",
      " [3 4 3 3 4 3]]\n"
     ]
    }
   ],
   "source": [
    "import numpy as np\n",
    "\n",
    "# Исходная матрица размерности (n, i, j)\n",
    "matrix = np.array([[[0, 1, 0, 0, 1, 1],\n",
    "                   [0, 1, 1, 1, 0, 0],\n",
    "                   [1, 1, 0, 1, 0, 1]],\n",
    "\n",
    "                  [[1, 1, 1, 0, 1, 1],\n",
    "                   [0, 0, 1, 0, 1, 0],\n",
    "                   [1, 0, 0, 1, 1, 0]]])\n",
    "\n",
    "# Получение матрицы сумм по размерности j\n",
    "sum_matrix = np.sum(matrix, axis=1)\n",
    "\n",
    "# Преобразование матрицы сумм в кумулятивные суммы по каждому из n векторов\n",
    "cumulative_sum_matrix = np.cumsum(sum_matrix, axis=0)\n",
    "\n",
    "# Вывод результирующей матрицы\n",
    "print(cumulative_sum_matrix)\n"
   ]
  },
  {
   "cell_type": "code",
   "execution_count": 77,
   "id": "0ea89812",
   "metadata": {},
   "outputs": [],
   "source": [
    "a = np.array([0,1,1,0,0,1])"
   ]
  },
  {
   "cell_type": "code",
   "execution_count": 78,
   "id": "6f7bed36",
   "metadata": {},
   "outputs": [
    {
     "data": {
      "text/plain": [
       "array([0, 1, 2, 2, 2, 3])"
      ]
     },
     "execution_count": 78,
     "metadata": {},
     "output_type": "execute_result"
    }
   ],
   "source": [
    "np.cumsum(a)"
   ]
  },
  {
   "cell_type": "code",
   "execution_count": 79,
   "id": "f9ac05d6",
   "metadata": {},
   "outputs": [],
   "source": [
    "matrix = np.array([[[0, 1, 0, 0, 1, 1],\n",
    "                   [0, 1, 1, 1, 0, 0],\n",
    "                   [1, 1, 0, 1, 0, 1]],\n",
    "\n",
    "                  [[1, 1, 1, 0, 1, 1],\n",
    "                   [0, 0, 1, 0, 1, 0],\n",
    "                   [1, 0, 0, 1, 1, 0]]])\n",
    "\n"
   ]
  },
  {
   "cell_type": "code",
   "execution_count": 86,
   "id": "d526144b",
   "metadata": {},
   "outputs": [
    {
     "data": {
      "text/plain": [
       "array([[1, 3, 1, 2, 1, 2],\n",
       "       [2, 1, 2, 1, 3, 1]])"
      ]
     },
     "execution_count": 86,
     "metadata": {},
     "output_type": "execute_result"
    }
   ],
   "source": [
    "c = np.sum(matrix, axis = 1)\n",
    "c"
   ]
  },
  {
   "cell_type": "code",
   "execution_count": 87,
   "id": "539d608b",
   "metadata": {},
   "outputs": [
    {
     "data": {
      "text/plain": [
       "array([[ 1,  4,  5,  7,  8, 10],\n",
       "       [ 2,  3,  5,  6,  9, 10]])"
      ]
     },
     "execution_count": 87,
     "metadata": {},
     "output_type": "execute_result"
    }
   ],
   "source": [
    "d = np.cumsum(c, axis = 1)\n",
    "d"
   ]
  },
  {
   "cell_type": "code",
   "execution_count": 82,
   "id": "8648af26",
   "metadata": {},
   "outputs": [
    {
     "data": {
      "text/plain": [
       "array([0, 0, 1, 1, 1, 2, 2, 2])"
      ]
     },
     "execution_count": 82,
     "metadata": {},
     "output_type": "execute_result"
    }
   ],
   "source": [
    "d"
   ]
  },
  {
   "cell_type": "code",
   "execution_count": 102,
   "id": "1a34f148",
   "metadata": {},
   "outputs": [
    {
     "name": "stdout",
     "output_type": "stream",
     "text": [
      "Первое значение > порогового встречается на позиции:\n",
      "[0 0 0 0 3 0 0 0 0 0]\n",
      "Строки, в которых встречается раньше:\n",
      "[0 1 2 3 5 6 7 8 9]\n"
     ]
    }
   ],
   "source": [
    "import numpy as np\n",
    "\n",
    "# Исходная матрица размерности (10, 5)\n",
    "matrix = np.array([[1, 2, 3, 4, 5],\n",
    "                   [6, 7, 8, 9, 10],\n",
    "                   [11, 12, 13, 14, 15],\n",
    "                   [16, 17, 18, 19, 20],\n",
    "                   [21, 22, 23, 24, 25],\n",
    "                   [26, 27, 28, 29, 30],\n",
    "                   [31, 32, 33, 34, 35],\n",
    "                   [36, 37, 38, 39, 40],\n",
    "                   [41, 42, 43, 44, 45],\n",
    "                   [46, 47, 48, 49, 50]])\n",
    "\n",
    "# Пороговое значение\n",
    "threshold = 23\n",
    "\n",
    "# Создание маски, отмечающей значения больше порогового\n",
    "mask = matrix > threshold\n",
    "\n",
    "# Определение позиции первого True значения в маске\n",
    "position = np.argmax(mask, axis=1)\n",
    "\n",
    "# Определение строк, в которых встречается значение раньше\n",
    "earliest_rows = np.where(position == np.min(position))[0]\n",
    "\n",
    "# Вывод результата\n",
    "print(\"Первое значение > порогового встречается на позиции:\")\n",
    "print(position)\n",
    "print(\"Строки, в которых встречается раньше:\")\n",
    "print(earliest_rows)\n"
   ]
  },
  {
   "cell_type": "code",
   "execution_count": 93,
   "id": "a6bc5c7e",
   "metadata": {},
   "outputs": [
    {
     "data": {
      "text/plain": [
       "array([[False, False, False, False, False],\n",
       "       [False, False, False, False, False],\n",
       "       [False, False, False, False, False],\n",
       "       [False, False, False, False, False],\n",
       "       [False, False, False, False, False],\n",
       "       [ True,  True,  True,  True,  True],\n",
       "       [ True,  True,  True,  True,  True],\n",
       "       [ True,  True,  True,  True,  True],\n",
       "       [ True,  True,  True,  True,  True],\n",
       "       [ True,  True,  True,  True,  True]])"
      ]
     },
     "execution_count": 93,
     "metadata": {},
     "output_type": "execute_result"
    }
   ],
   "source": [
    "matrix>threshold"
   ]
  },
  {
   "cell_type": "code",
   "execution_count": 92,
   "id": "706e3c1e",
   "metadata": {},
   "outputs": [
    {
     "data": {
      "text/plain": [
       "(array([5, 5, 5, 5, 5, 6, 6, 6, 6, 6, 7, 7, 7, 7, 7, 8, 8, 8, 8, 8, 9, 9,\n",
       "        9, 9, 9], dtype=int64),\n",
       " array([0, 1, 2, 3, 4, 0, 1, 2, 3, 4, 0, 1, 2, 3, 4, 0, 1, 2, 3, 4, 0, 1,\n",
       "        2, 3, 4], dtype=int64))"
      ]
     },
     "execution_count": 92,
     "metadata": {},
     "output_type": "execute_result"
    }
   ],
   "source": [
    "np.where(matrix>threshold)"
   ]
  },
  {
   "cell_type": "code",
   "execution_count": 101,
   "id": "1a7af0f5",
   "metadata": {},
   "outputs": [
    {
     "data": {
      "text/plain": [
       "array([5, 5, 5, 5, 5], dtype=int64)"
      ]
     },
     "execution_count": 101,
     "metadata": {},
     "output_type": "execute_result"
    }
   ],
   "source": [
    "np.argmax(mask, axis=0)"
   ]
  },
  {
   "cell_type": "code",
   "execution_count": 94,
   "id": "b622d555",
   "metadata": {},
   "outputs": [],
   "source": [
    "d = np.array([0,1,2,3,4,5,6,7,8,9])"
   ]
  },
  {
   "cell_type": "code",
   "execution_count": 95,
   "id": "8f78aaa9",
   "metadata": {},
   "outputs": [
    {
     "data": {
      "text/plain": [
       "array([0, 1, 2, 3, 4, 5, 6, 7, 8, 9])"
      ]
     },
     "execution_count": 95,
     "metadata": {},
     "output_type": "execute_result"
    }
   ],
   "source": [
    "d"
   ]
  },
  {
   "cell_type": "code",
   "execution_count": 96,
   "id": "f95428ad",
   "metadata": {},
   "outputs": [
    {
     "data": {
      "text/plain": [
       "array([[0],\n",
       "       [1],\n",
       "       [2],\n",
       "       [3],\n",
       "       [4],\n",
       "       [5],\n",
       "       [6],\n",
       "       [7],\n",
       "       [8],\n",
       "       [9]])"
      ]
     },
     "execution_count": 96,
     "metadata": {},
     "output_type": "execute_result"
    }
   ],
   "source": [
    "d[:, np.newaxis]"
   ]
  },
  {
   "cell_type": "code",
   "execution_count": 97,
   "id": "ab7fff5f",
   "metadata": {},
   "outputs": [
    {
     "ename": "ValueError",
     "evalue": "operands could not be broadcast together with shapes (10,5) (10,) ",
     "output_type": "error",
     "traceback": [
      "\u001b[1;31m---------------------------------------------------------------------------\u001b[0m",
      "\u001b[1;31mValueError\u001b[0m                                Traceback (most recent call last)",
      "\u001b[1;32mC:\\Users\\ALEXSM~1\\AppData\\Local\\Temp/ipykernel_13236/1017495031.py\u001b[0m in \u001b[0;36m<module>\u001b[1;34m\u001b[0m\n\u001b[1;32m----> 1\u001b[1;33m \u001b[0mmatrix\u001b[0m\u001b[1;33m>\u001b[0m\u001b[0md\u001b[0m\u001b[1;33m\u001b[0m\u001b[1;33m\u001b[0m\u001b[0m\n\u001b[0m",
      "\u001b[1;31mValueError\u001b[0m: operands could not be broadcast together with shapes (10,5) (10,) "
     ]
    }
   ],
   "source": [
    "matrix>d"
   ]
  },
  {
   "cell_type": "code",
   "execution_count": 103,
   "id": "16abf9ae",
   "metadata": {},
   "outputs": [
    {
     "name": "stdout",
     "output_type": "stream",
     "text": [
      "Первое превышение порога появляется на позиции:\n",
      "Строка 2: Позиция 0\n",
      "Строка 4: Позиция 0\n",
      "Строка 5: Позиция 0\n",
      "Строка 6: Позиция 0\n",
      "Строка 7: Позиция 0\n",
      "Строка 8: Позиция 0\n",
      "Строка 9: Позиция 0\n",
      "Строка 10: Позиция 0\n"
     ]
    }
   ],
   "source": [
    "import numpy as np\n",
    "\n",
    "# Исходная матрица размерности (10, 5)\n",
    "matrix = np.array([[1, 2, 3, 4, 5],\n",
    "                   [2, 4, 6, 8, 10],\n",
    "                   [3, 6, 9, 12, 15],\n",
    "                   [4, 8, 12, 16, 20],\n",
    "                   [5, 10, 15, 20, 25],\n",
    "                   [6, 12, 18, 24, 30],\n",
    "                   [7, 14, 21, 28, 35],\n",
    "                   [8, 16, 24, 32, 40],\n",
    "                   [9, 18, 27, 36, 45],\n",
    "                   [10, 20, 30, 40, 50]])\n",
    "\n",
    "# Пороговые значения для каждой строки\n",
    "thresholds = [3, 20, 9, 40, 50, 60, 70, 80, 90, 100]\n",
    "\n",
    "m = matrix.apply(, axis = 1)\n",
    "\n",
    "# Определение позиции первого значения, превышающего порог, в каждой строке\n",
    "first_exceed_positions = np.argmax(matrix > np.array(thresholds)[:, np.newaxis], axis=1)\n",
    "\n",
    "# Определение строк, в которых значение превышающее порог появляется раньше\n",
    "earliest_rows = np.where(first_exceed_positions == np.min(first_exceed_positions))[0]\n",
    "\n",
    "# Вывод результатов\n",
    "print(\"Первое превышение порога появляется на позиции:\")\n",
    "for row in earliest_rows:\n",
    "    print(f\"Строка {row + 1}: Позиция {first_exceed_positions[row]}\")\n"
   ]
  },
  {
   "cell_type": "code",
   "execution_count": 100,
   "id": "602b9273",
   "metadata": {},
   "outputs": [
    {
     "data": {
      "text/plain": [
       "2"
      ]
     },
     "execution_count": 100,
     "metadata": {},
     "output_type": "execute_result"
    }
   ],
   "source": [
    "b = np.array([False, False, True, False, True])\n",
    "np.argmax(b)"
   ]
  },
  {
   "cell_type": "code",
   "execution_count": 105,
   "id": "95378149",
   "metadata": {},
   "outputs": [],
   "source": [
    "matrix  = np.random.randint(20, size = (10, 4), dtype = np.int16)"
   ]
  },
  {
   "cell_type": "code",
   "execution_count": 106,
   "id": "bcdea335",
   "metadata": {},
   "outputs": [
    {
     "data": {
      "text/plain": [
       "array([[ 3, 17, 13, 12],\n",
       "       [ 5,  6, 17,  9],\n",
       "       [12,  9, 14, 17],\n",
       "       [18, 12, 14, 11],\n",
       "       [19,  6,  7, 18],\n",
       "       [18,  5,  3,  0],\n",
       "       [19, 17, 13, 13],\n",
       "       [ 2, 16,  5,  7],\n",
       "       [ 2,  3,  2, 17],\n",
       "       [14, 12, 11,  6]], dtype=int16)"
      ]
     },
     "execution_count": 106,
     "metadata": {},
     "output_type": "execute_result"
    }
   ],
   "source": [
    "matrix"
   ]
  },
  {
   "cell_type": "code",
   "execution_count": 111,
   "id": "9f5af467",
   "metadata": {},
   "outputs": [],
   "source": [
    "thresholds = np.random.randint(low = 10, high=20, size = (10,1), dtype = np.int16)\n"
   ]
  },
  {
   "cell_type": "code",
   "execution_count": 112,
   "id": "cff24f54",
   "metadata": {},
   "outputs": [
    {
     "data": {
      "text/plain": [
       "array([[13],\n",
       "       [11],\n",
       "       [13],\n",
       "       [17],\n",
       "       [11],\n",
       "       [14],\n",
       "       [12],\n",
       "       [11],\n",
       "       [10],\n",
       "       [13]], dtype=int16)"
      ]
     },
     "execution_count": 112,
     "metadata": {},
     "output_type": "execute_result"
    }
   ],
   "source": [
    "thresholds"
   ]
  },
  {
   "cell_type": "code",
   "execution_count": 116,
   "id": "d1377148",
   "metadata": {},
   "outputs": [],
   "source": [
    "thresholds[9] = 25"
   ]
  },
  {
   "cell_type": "code",
   "execution_count": 117,
   "id": "1f528fdd",
   "metadata": {},
   "outputs": [],
   "source": [
    "comp = matrix>thresholds"
   ]
  },
  {
   "cell_type": "code",
   "execution_count": 118,
   "id": "91371c46",
   "metadata": {},
   "outputs": [
    {
     "data": {
      "text/plain": [
       "array([[False,  True, False, False],\n",
       "       [False, False,  True, False],\n",
       "       [False, False,  True,  True],\n",
       "       [ True, False, False, False],\n",
       "       [ True, False, False,  True],\n",
       "       [ True, False, False, False],\n",
       "       [ True,  True,  True,  True],\n",
       "       [False,  True, False, False],\n",
       "       [False, False, False,  True],\n",
       "       [False, False, False, False]])"
      ]
     },
     "execution_count": 118,
     "metadata": {},
     "output_type": "execute_result"
    }
   ],
   "source": [
    "comp"
   ]
  },
  {
   "cell_type": "code",
   "execution_count": 119,
   "id": "c8a68408",
   "metadata": {},
   "outputs": [
    {
     "data": {
      "text/plain": [
       "array([1, 2, 2, 0, 0, 0, 0, 1, 3, 0], dtype=int64)"
      ]
     },
     "execution_count": 119,
     "metadata": {},
     "output_type": "execute_result"
    }
   ],
   "source": [
    "np.argmax(comp, axis = 1)"
   ]
  },
  {
   "cell_type": "code",
   "execution_count": null,
   "id": "b92c5b60",
   "metadata": {},
   "outputs": [],
   "source": []
  },
  {
   "cell_type": "code",
   "execution_count": 2,
   "id": "6018d70f",
   "metadata": {},
   "outputs": [],
   "source": [
    "import numpy as np\n",
    "import time"
   ]
  },
  {
   "cell_type": "code",
   "execution_count": 3,
   "id": "364dc9e3",
   "metadata": {},
   "outputs": [],
   "source": [
    "vec = np.random.randint(2, size=(7), dtype = np.int16)"
   ]
  },
  {
   "cell_type": "code",
   "execution_count": 4,
   "id": "6e90f18b",
   "metadata": {},
   "outputs": [
    {
     "data": {
      "text/plain": [
       "array([0, 0, 0, 0, 1, 0, 1], dtype=int16)"
      ]
     },
     "execution_count": 4,
     "metadata": {},
     "output_type": "execute_result"
    }
   ],
   "source": [
    "vec"
   ]
  },
  {
   "cell_type": "code",
   "execution_count": 9,
   "id": "18213a18",
   "metadata": {},
   "outputs": [
    {
     "data": {
      "text/plain": [
       "array([1, 0, 0, 0, 0, 1, 0], dtype=int16)"
      ]
     },
     "execution_count": 9,
     "metadata": {},
     "output_type": "execute_result"
    }
   ],
   "source": [
    "np.append(vec[-1], vec[:-1])"
   ]
  },
  {
   "cell_type": "code",
   "execution_count": 7,
   "id": "8aab991e",
   "metadata": {},
   "outputs": [
    {
     "data": {
      "text/plain": [
       "1"
      ]
     },
     "execution_count": 7,
     "metadata": {},
     "output_type": "execute_result"
    }
   ],
   "source": [
    "vec[-1]"
   ]
  },
  {
   "cell_type": "code",
   "execution_count": null,
   "id": "ed5afca6",
   "metadata": {},
   "outputs": [],
   "source": []
  }
 ],
 "metadata": {
  "kernelspec": {
   "display_name": "Python 3 (ipykernel)",
   "language": "python",
   "name": "python3"
  },
  "language_info": {
   "codemirror_mode": {
    "name": "ipython",
    "version": 3
   },
   "file_extension": ".py",
   "mimetype": "text/x-python",
   "name": "python",
   "nbconvert_exporter": "python",
   "pygments_lexer": "ipython3",
   "version": "3.9.13"
  }
 },
 "nbformat": 4,
 "nbformat_minor": 5
}
