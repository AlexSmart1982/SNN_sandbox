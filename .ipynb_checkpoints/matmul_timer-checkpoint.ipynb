{
 "cells": [
  {
   "cell_type": "code",
   "execution_count": 11,
   "id": "cf701fa5",
   "metadata": {},
   "outputs": [
    {
     "name": "stdout",
     "output_type": "stream",
     "text": [
      "Время умножения двух матриц с дробными значениями: 41.5551073551178 сек\n",
      "Время умножения двух матриц с значениями 0 или 1: 4891.83182311058 сек\n"
     ]
    }
   ],
   "source": [
    "import numpy as np\n",
    "import time\n",
    "\n",
    "# Генерация двух матриц с дробными значениями\n",
    "matrix1 = np.random.rand(10000, 10000)\n",
    "matrix2 = np.random.rand(10000, 10000)\n",
    "\n",
    "# Измерение времени умножения двух матриц с дробными значениями\n",
    "start_time = time.time()\n",
    "result1 = np.dot(matrix1, matrix2)\n",
    "end_time = time.time()\n",
    "execution_time1 = end_time - start_time\n",
    "print(\"Время умножения двух матриц с дробными значениями:\", execution_time1, \"сек\")\n",
    "\n",
    "# Генерация двух матриц с значениями 0 или 1\n",
    "matrix3 = np.random.randint(2, size=(10000, 10000), dtype = np.int16)\n",
    "matrix4 = np.random.randint(2, size=(10000, 10000), dtype = np.int16)\n",
    "\n",
    "# Измерение времени умножения двух матриц с значениями 0 или 1\n",
    "start_time = time.time()\n",
    "result2 = np.dot(matrix3, matrix4)\n",
    "end_time = time.time()\n",
    "execution_time2 = end_time - start_time\n",
    "print(\"Время умножения двух матриц с значениями 0 или 1:\", execution_time2, \"сек\")\n"
   ]
  },
  {
   "cell_type": "code",
   "execution_count": 12,
   "id": "2ce3c15e",
   "metadata": {},
   "outputs": [
    {
     "name": "stdout",
     "output_type": "stream",
     "text": [
      "Время умножения двух матриц с значениями 0 или 1: 1.522479772567749 сек\n"
     ]
    }
   ],
   "source": [
    "# Генерация двух матриц с значениями 0 или 1\n",
    "matrix5 = matrix3.astype(bool)\n",
    "matrix6 = matrix4.astype(bool)\n",
    "\n",
    "# Измерение времени умножения двух матриц с значениями 0 или 1\n",
    "start_time = time.time()\n",
    "result2 = np.dot(matrix5, matrix6)\n",
    "end_time = time.time()\n",
    "execution_time2 = end_time - start_time\n",
    "print(\"Время умножения двух матриц с значениями 0 или 1:\", execution_time2, \"сек\")\n"
   ]
  },
  {
   "cell_type": "code",
   "execution_count": 9,
   "id": "de4980f4",
   "metadata": {},
   "outputs": [
    {
     "data": {
      "text/plain": [
       "2000000"
      ]
     },
     "execution_count": 9,
     "metadata": {},
     "output_type": "execute_result"
    }
   ],
   "source": [
    "matrix3.nbytes"
   ]
  },
  {
   "cell_type": "code",
   "execution_count": 3,
   "id": "699e77c7",
   "metadata": {},
   "outputs": [
    {
     "name": "stdout",
     "output_type": "stream",
     "text": [
      "Размер памяти до изменения: 20 байт\n",
      "Размер памяти после изменения: 10 байт\n"
     ]
    }
   ],
   "source": [
    "import numpy as np\n",
    "\n",
    "# Создание массива целых чисел\n",
    "arr = np.array([1, 2, 3, 4, 5], dtype=np.int32)\n",
    "\n",
    "# Проверка размера памяти, занимаемого массивом\n",
    "print(\"Размер памяти до изменения:\", arr.nbytes, \"байт\")\n",
    "\n",
    "# Преобразование массива в int16\n",
    "arr = arr.astype(np.int16)\n",
    "\n",
    "# Проверка размера памяти после изменения\n",
    "print(\"Размер памяти после изменения:\", arr.nbytes, \"байт\")\n"
   ]
  },
  {
   "cell_type": "code",
   "execution_count": null,
   "id": "9ed3f489",
   "metadata": {},
   "outputs": [],
   "source": []
  }
 ],
 "metadata": {
  "kernelspec": {
   "display_name": "Python 3 (ipykernel)",
   "language": "python",
   "name": "python3"
  },
  "language_info": {
   "codemirror_mode": {
    "name": "ipython",
    "version": 3
   },
   "file_extension": ".py",
   "mimetype": "text/x-python",
   "name": "python",
   "nbconvert_exporter": "python",
   "pygments_lexer": "ipython3",
   "version": "3.9.13"
  }
 },
 "nbformat": 4,
 "nbformat_minor": 5
}
