{
 "cells": [
  {
   "cell_type": "code",
   "execution_count": 1,
   "id": "4ea47bb4",
   "metadata": {},
   "outputs": [],
   "source": [
    "import numpy as np\n",
    "import pandas as pd\n"
   ]
  },
  {
   "cell_type": "code",
   "execution_count": null,
   "id": "562c1216",
   "metadata": {},
   "outputs": [],
   "source": []
  },
  {
   "cell_type": "code",
   "execution_count": 13,
   "id": "9c29d241",
   "metadata": {},
   "outputs": [],
   "source": [
    "# it goes to middle\n",
    "\n",
    "def move_vec(vec, direction, step = 1):\n",
    "    level = 0\n",
    "    middle= int(len(vec)/2)\n",
    "    if direction == -1:\n",
    "        if vec[0] == True:\n",
    "            vec = np.zeros(len(vec), dtype = bool)\n",
    "            vec[middle] = True\n",
    "            level = -1\n",
    "        else:\n",
    "            vec = np.append(vec[:-1], vec[0])\n",
    "    \n",
    "    elif direction == 1:\n",
    "        if vec[-1] == True:\n",
    "            vec = np.zeros(len(vec), dtype = bool)\n",
    "            vec[middle] = True\n",
    "            level = 1\n",
    "        else:\n",
    "            vec = np.append(vec[-1], vec[:-1])\n",
    "    \n",
    "    return vec, level"
   ]
  },
  {
   "cell_type": "code",
   "execution_count": 17,
   "id": "de83e726",
   "metadata": {},
   "outputs": [],
   "source": [
    "# it goes to opposite side\n",
    "\n",
    "def move_vec2(vec, direction, step = 1):\n",
    "    level = 0\n",
    "    if direction == -1:\n",
    "        if vec[0] == True:\n",
    "            level = -1\n",
    "        vec = np.append(vec[:-1], vec[0])\n",
    "    \n",
    "    elif direction == 1:\n",
    "        if vec[-1] == True:\n",
    "            level = 1\n",
    "        vec = np.append(vec[-1], vec[:-1])\n",
    "    \n",
    "    return vec, level"
   ]
  },
  {
   "cell_type": "code",
   "execution_count": null,
   "id": "ece38bd1",
   "metadata": {},
   "outputs": [],
   "source": []
  },
  {
   "cell_type": "code",
   "execution_count": 20,
   "id": "eb87186d",
   "metadata": {},
   "outputs": [],
   "source": [
    "\n",
    "def forward(matrix):\n",
    "    # forward\n",
    "    # поэлементное умножение матрицы входов а (n примеров, k фичей) и весов b (n связей, k тактов)\n",
    "    # результирующая матрица с (n примеров, n связей, k тактов). Далее можно планировать сумму для оценки активации нейрона\n",
    "\n",
    "    trigger = 1 #порог активации выхода\n",
    "    a = a[:,:, np.newaxis]\n",
    "    m = np.einsum('ij, kim-> kij', b, a) # (2,4) (10,2,1) - получаем построковое умножение входа на веса в каждом такте\n",
    "\n",
    "    # суммируем все связи на нейрон по тактам (что приходит в каждом такте)\n",
    "    n = np.sum(m, axis = 1)\n",
    "\n",
    "    # преобразуем в кумулятивную сумму, чтобы отследить рост потенциала и сравнивать с триггером нейрона (активировался или нет)\n",
    "    cum = np.cumsum(n, axis = 1)\n",
    "\n",
    "    #далее надо в каждом такте определить, активировался ли нейрон. Если да = стоп. np.where(cum>trigger)\n",
    "    tick = np.where(cum>trigger)\n",
    "    if len(tick[0])<0 :\n",
    "        activation = 0\n",
    "    else:\n",
    "        activation = 1\n",
    "        activation_tick = np.min(tick)\n",
    "    \n",
    "    return activation, activation_tick\n",
    "    "
   ]
  },
  {
   "cell_type": "code",
   "execution_count": null,
   "id": "946a1502",
   "metadata": {},
   "outputs": [],
   "source": [
    "# backward\n",
    "\n",
    "# сравниваем с эталонным значением\n",
    "if output = y:\n",
    "    break\n",
    "\n",
    "# если ошибка - ищем что повлияло (на каком входе 1) и если дб 0 а у нас единица - делаем запоздание на такте (двигаем направо), если наоборот - ускоряем (жвигаем влево)\n",
    "# если двигать некуда - меняем уровень активации\n",
    "else:\n",
    "    # where 1\n",
    "    delta = y - output\n",
    "    active_inputs = np.where(inp == 1)\n",
    "    for i in range(len(active_inputs)):\n",
    "        matrix[i,:]\n",
    "                   \n",
    "        \n"
   ]
  },
  {
   "cell_type": "code",
   "execution_count": null,
   "id": "c09ee67f",
   "metadata": {},
   "outputs": [],
   "source": []
  },
  {
   "cell_type": "code",
   "execution_count": null,
   "id": "edcce9cd",
   "metadata": {},
   "outputs": [],
   "source": [
    "def fit(inp, out, epoch = 100, lr = 0.1):\n",
    "    default_pos = 4\n",
    "    max_pos = 8\n",
    "    min_pos = 0\n",
    "    level = 1\n",
    "    current_pos1 = default_pos\n",
    "    current_pos2 = default_pos\n",
    "    \n",
    "    for i in range(epoch):\n",
    "        print(\"epoch \", i)\n",
    "        \n",
    "        for j in inp:\n",
    "            summ = 0\n",
    "            for tick in range(max_pos):\n",
    "                \n",
    "                if tick = current_pos1:\n",
    "                    a = 1\n",
    "                else:\n",
    "                    a= 0\n",
    "                    \n",
    "                if tick = current_pos2:\n",
    "                    b = 1\n",
    "                else:\n",
    "                    b = 0\n",
    "                \n",
    "                summ = np.sum(j*(a,b))\n",
    "                "
   ]
  },
  {
   "cell_type": "code",
   "execution_count": null,
   "id": "f111dce2",
   "metadata": {},
   "outputs": [],
   "source": []
  },
  {
   "cell_type": "code",
   "execution_count": 3,
   "id": "df4292c8",
   "metadata": {},
   "outputs": [
    {
     "ename": "TypeError",
     "evalue": "can't multiply sequence by non-int of type 'list'",
     "output_type": "error",
     "traceback": [
      "\u001b[1;31m---------------------------------------------------------------------------\u001b[0m",
      "\u001b[1;31mTypeError\u001b[0m                                 Traceback (most recent call last)",
      "\u001b[1;32m~\\AppData\\Local\\Temp\\ipykernel_14628\\4147383672.py\u001b[0m in \u001b[0;36m<module>\u001b[1;34m\u001b[0m\n\u001b[1;32m----> 1\u001b[1;33m \u001b[1;33m[\u001b[0m\u001b[1;36m10\u001b[0m\u001b[1;33m,\u001b[0m\u001b[1;36m20\u001b[0m\u001b[1;33m]\u001b[0m\u001b[1;33m*\u001b[0m\u001b[1;33m[\u001b[0m\u001b[1;36m1\u001b[0m\u001b[1;33m,\u001b[0m\u001b[1;36m2\u001b[0m\u001b[1;33m]\u001b[0m\u001b[1;33m\u001b[0m\u001b[1;33m\u001b[0m\u001b[0m\n\u001b[0m",
      "\u001b[1;31mTypeError\u001b[0m: can't multiply sequence by non-int of type 'list'"
     ]
    }
   ],
   "source": [
    "[10,20]*[1,2]"
   ]
  },
  {
   "cell_type": "code",
   "execution_count": null,
   "id": "793d1908",
   "metadata": {},
   "outputs": [],
   "source": []
  },
  {
   "cell_type": "code",
   "execution_count": null,
   "id": "96f87fbf",
   "metadata": {},
   "outputs": [],
   "source": []
  },
  {
   "cell_type": "code",
   "execution_count": null,
   "id": "012c9a34",
   "metadata": {},
   "outputs": [],
   "source": []
  },
  {
   "cell_type": "code",
   "execution_count": null,
   "id": "70b094e3",
   "metadata": {},
   "outputs": [],
   "source": []
  }
 ],
 "metadata": {
  "kernelspec": {
   "display_name": "Python 3 (ipykernel)",
   "language": "python",
   "name": "python3"
  },
  "language_info": {
   "codemirror_mode": {
    "name": "ipython",
    "version": 3
   },
   "file_extension": ".py",
   "mimetype": "text/x-python",
   "name": "python",
   "nbconvert_exporter": "python",
   "pygments_lexer": "ipython3",
   "version": "3.9.13"
  }
 },
 "nbformat": 4,
 "nbformat_minor": 5
}
